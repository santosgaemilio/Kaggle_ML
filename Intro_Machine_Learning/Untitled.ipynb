{
 "cells": [
  {
   "cell_type": "code",
   "execution_count": 3,
   "id": "efe65a8c-db90-4cbf-bff0-702c114f89d2",
   "metadata": {},
   "outputs": [],
   "source": [
    "public static void main(String args[]){\n",
    "    System.out.println(\"Que onda chavos\");\n",
    "}"
   ]
  },
  {
   "cell_type": "code",
   "execution_count": null,
   "id": "aa2dbad7-ee19-47a7-b9ea-a8dd6a8ef3ce",
   "metadata": {},
   "outputs": [],
   "source": []
  }
 ],
 "metadata": {
  "kernelspec": {
   "display_name": "Java",
   "language": "java",
   "name": "java"
  },
  "language_info": {
   "codemirror_mode": "java",
   "file_extension": ".jshell",
   "mimetype": "text/x-java-source",
   "name": "Java",
   "pygments_lexer": "java",
   "version": "17.0.6+9-LTS-190"
  }
 },
 "nbformat": 4,
 "nbformat_minor": 5
}
